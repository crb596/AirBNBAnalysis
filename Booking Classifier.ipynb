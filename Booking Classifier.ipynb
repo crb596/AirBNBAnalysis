{
 "cells": [
  {
   "cell_type": "code",
   "execution_count": 17,
   "id": "0d3716ee",
   "metadata": {},
   "outputs": [],
   "source": [
    "# Import required libraries\n",
    "import pandas as pd\n",
    "import numpy as np \n",
    "import matplotlib.pyplot as plt\n",
    "import sklearn\n",
    "\n",
    "# Import necessary modules\n",
    "from sklearn.model_selection import train_test_split\n",
    "from sklearn.metrics import mean_squared_error\n",
    "from math import sqrt\n",
    "\n",
    "# Keras specific\n",
    "import keras\n",
    "from keras.models import Sequential\n",
    "from keras.layers import Dense\n",
    "from tensorflow.keras.utils import to_categorical\n"
   ]
  },
  {
   "cell_type": "code",
   "execution_count": 152,
   "id": "1e4d6f4c",
   "metadata": {},
   "outputs": [
    {
     "name": "stdout",
     "output_type": "stream",
     "text": [
      "Read csv without chunks:  0.2698519229888916 sec\n"
     ]
    }
   ],
   "source": [
    "# Read in data\n",
    "\n",
    "dataPath = 'data.csv'\n",
    "\n",
    "start = time.time()\n",
    "df = pd.read_csv(dataPath)\n",
    "end = time.time()\n",
    "print(\"Read csv without chunks: \",(end-start),\"sec\")\n",
    "\n",
    "# Convert boolean column of booked to int\n",
    "df[\"booked\"] = df[\"booked\"].astype(int)\n",
    "\n",
    "# Filter out nan\n",
    "df = df.dropna()"
   ]
  },
  {
   "cell_type": "code",
   "execution_count": 141,
   "id": "6d989769",
   "metadata": {},
   "outputs": [
    {
     "data": {
      "text/html": [
       "<div>\n",
       "<style scoped>\n",
       "    .dataframe tbody tr th:only-of-type {\n",
       "        vertical-align: middle;\n",
       "    }\n",
       "\n",
       "    .dataframe tbody tr th {\n",
       "        vertical-align: top;\n",
       "    }\n",
       "\n",
       "    .dataframe thead th {\n",
       "        text-align: right;\n",
       "    }\n",
       "</style>\n",
       "<table border=\"1\" class=\"dataframe\">\n",
       "  <thead>\n",
       "    <tr style=\"text-align: right;\">\n",
       "      <th></th>\n",
       "      <th>Unnamed: 0</th>\n",
       "      <th>host_is_superhost</th>\n",
       "      <th>accommodates</th>\n",
       "      <th>bathrooms</th>\n",
       "      <th>bedrooms</th>\n",
       "      <th>beds</th>\n",
       "      <th>review_scores_rating</th>\n",
       "      <th>price</th>\n",
       "      <th>booked</th>\n",
       "    </tr>\n",
       "  </thead>\n",
       "  <tbody>\n",
       "    <tr>\n",
       "      <th>count</th>\n",
       "      <td>362370.000000</td>\n",
       "      <td>362370.000000</td>\n",
       "      <td>362370.000000</td>\n",
       "      <td>362370.000000</td>\n",
       "      <td>362370.000000</td>\n",
       "      <td>362370.000000</td>\n",
       "      <td>362370.000000</td>\n",
       "      <td>362370.000000</td>\n",
       "      <td>362370.000000</td>\n",
       "    </tr>\n",
       "    <tr>\n",
       "      <th>mean</th>\n",
       "      <td>199642.820225</td>\n",
       "      <td>0.388774</td>\n",
       "      <td>3.354831</td>\n",
       "      <td>1.172696</td>\n",
       "      <td>1.445236</td>\n",
       "      <td>1.867621</td>\n",
       "      <td>4.730517</td>\n",
       "      <td>204.070204</td>\n",
       "      <td>0.685832</td>\n",
       "    </tr>\n",
       "    <tr>\n",
       "      <th>std</th>\n",
       "      <td>115380.538023</td>\n",
       "      <td>0.487472</td>\n",
       "      <td>2.259316</td>\n",
       "      <td>0.460526</td>\n",
       "      <td>0.806338</td>\n",
       "      <td>1.313301</td>\n",
       "      <td>0.376637</td>\n",
       "      <td>226.961953</td>\n",
       "      <td>0.464184</td>\n",
       "    </tr>\n",
       "    <tr>\n",
       "      <th>min</th>\n",
       "      <td>0.000000</td>\n",
       "      <td>0.000000</td>\n",
       "      <td>1.000000</td>\n",
       "      <td>0.000000</td>\n",
       "      <td>1.000000</td>\n",
       "      <td>1.000000</td>\n",
       "      <td>1.000000</td>\n",
       "      <td>10.000000</td>\n",
       "      <td>0.000000</td>\n",
       "    </tr>\n",
       "    <tr>\n",
       "      <th>25%</th>\n",
       "      <td>98392.250000</td>\n",
       "      <td>0.000000</td>\n",
       "      <td>2.000000</td>\n",
       "      <td>1.000000</td>\n",
       "      <td>1.000000</td>\n",
       "      <td>1.000000</td>\n",
       "      <td>4.650000</td>\n",
       "      <td>90.000000</td>\n",
       "      <td>0.000000</td>\n",
       "    </tr>\n",
       "    <tr>\n",
       "      <th>50%</th>\n",
       "      <td>202274.500000</td>\n",
       "      <td>0.000000</td>\n",
       "      <td>2.000000</td>\n",
       "      <td>1.000000</td>\n",
       "      <td>1.000000</td>\n",
       "      <td>1.000000</td>\n",
       "      <td>4.830000</td>\n",
       "      <td>149.000000</td>\n",
       "      <td>1.000000</td>\n",
       "    </tr>\n",
       "    <tr>\n",
       "      <th>75%</th>\n",
       "      <td>300156.750000</td>\n",
       "      <td>1.000000</td>\n",
       "      <td>4.000000</td>\n",
       "      <td>1.000000</td>\n",
       "      <td>2.000000</td>\n",
       "      <td>2.000000</td>\n",
       "      <td>4.960000</td>\n",
       "      <td>245.000000</td>\n",
       "      <td>1.000000</td>\n",
       "    </tr>\n",
       "    <tr>\n",
       "      <th>max</th>\n",
       "      <td>396179.000000</td>\n",
       "      <td>1.000000</td>\n",
       "      <td>16.000000</td>\n",
       "      <td>7.000000</td>\n",
       "      <td>9.000000</td>\n",
       "      <td>18.000000</td>\n",
       "      <td>5.000000</td>\n",
       "      <td>9994.000000</td>\n",
       "      <td>1.000000</td>\n",
       "    </tr>\n",
       "  </tbody>\n",
       "</table>\n",
       "</div>"
      ],
      "text/plain": [
       "          Unnamed: 0  host_is_superhost   accommodates      bathrooms  \\\n",
       "count  362370.000000      362370.000000  362370.000000  362370.000000   \n",
       "mean   199642.820225           0.388774       3.354831       1.172696   \n",
       "std    115380.538023           0.487472       2.259316       0.460526   \n",
       "min         0.000000           0.000000       1.000000       0.000000   \n",
       "25%     98392.250000           0.000000       2.000000       1.000000   \n",
       "50%    202274.500000           0.000000       2.000000       1.000000   \n",
       "75%    300156.750000           1.000000       4.000000       1.000000   \n",
       "max    396179.000000           1.000000      16.000000       7.000000   \n",
       "\n",
       "            bedrooms           beds  review_scores_rating          price  \\\n",
       "count  362370.000000  362370.000000         362370.000000  362370.000000   \n",
       "mean        1.445236       1.867621              4.730517     204.070204   \n",
       "std         0.806338       1.313301              0.376637     226.961953   \n",
       "min         1.000000       1.000000              1.000000      10.000000   \n",
       "25%         1.000000       1.000000              4.650000      90.000000   \n",
       "50%         1.000000       1.000000              4.830000     149.000000   \n",
       "75%         2.000000       2.000000              4.960000     245.000000   \n",
       "max         9.000000      18.000000              5.000000    9994.000000   \n",
       "\n",
       "              booked  \n",
       "count  362370.000000  \n",
       "mean        0.685832  \n",
       "std         0.464184  \n",
       "min         0.000000  \n",
       "25%         0.000000  \n",
       "50%         1.000000  \n",
       "75%         1.000000  \n",
       "max         1.000000  "
      ]
     },
     "execution_count": 141,
     "metadata": {},
     "output_type": "execute_result"
    }
   ],
   "source": [
    "# Data overview\n",
    "df.describe()\n"
   ]
  },
  {
   "cell_type": "code",
   "execution_count": 153,
   "id": "a85e26d6",
   "metadata": {},
   "outputs": [
    {
     "name": "stdout",
     "output_type": "stream",
     "text": [
      "bedrooms                   9.0\n",
      "accommodates              16.0\n",
      "review_scores_rating       5.0\n",
      "price                   9994.0\n",
      "beds                      18.0\n",
      "host_is_superhost          1.0\n",
      "bathrooms                  7.0\n",
      "dtype: float64\n",
      "bedrooms                   9.0\n",
      "accommodates              16.0\n",
      "review_scores_rating       5.0\n",
      "price                   9994.0\n",
      "beds                      18.0\n",
      "host_is_superhost          1.0\n",
      "bathrooms                  7.0\n",
      "dtype: float64\n"
     ]
    }
   ],
   "source": [
    "# Noarmalize data and select out target column\n",
    "\n",
    "target_column = ['booked'] \n",
    "index_column = ['Unnamed: 0']\n",
    "predictors = list(set(list(df.columns))-set(target_column)-set(index_column))\n",
    "maxes = df[predictors].max()\n",
    "df[predictors] = df[predictors]/maxes\n",
    "df.describe()\n"
   ]
  },
  {
   "cell_type": "code",
   "execution_count": 45,
   "id": "a9c20aac",
   "metadata": {},
   "outputs": [
    {
     "name": "stdout",
     "output_type": "stream",
     "text": [
      "(253659, 7)\n",
      "(108711, 7)\n"
     ]
    }
   ],
   "source": [
    "# Create test vs train sets\n",
    "X = df[predictors].values\n",
    "y = df[target_column].values\n",
    "\n",
    "X_train, X_test, y_train, y_test = train_test_split(X, y, test_size=0.30, random_state=40)\n",
    "print(X_train.shape); print(X_test.shape)\n",
    "\n",
    "# One hot encode outputs since booked is catagorical\n",
    "y_train = to_categorical(y_train)\n",
    "y_test = to_categorical(y_test)\n",
    "\n",
    "count_classes = y_test.shape[1]"
   ]
  },
  {
   "cell_type": "code",
   "execution_count": 46,
   "id": "af3ebadf",
   "metadata": {},
   "outputs": [],
   "source": [
    "# Build model\n",
    "\n",
    "model = Sequential()\n",
    "model.add(Dense(500, activation='relu', input_dim=7))\n",
    "model.add(Dense(100, activation='relu'))\n",
    "model.add(Dense(50, activation='relu'))\n",
    "model.add(Dense(2, activation='softmax'))\n",
    "\n",
    "# Compile the model\n",
    "model.compile(optimizer='adam', \n",
    "              loss='categorical_crossentropy', \n",
    "              metrics=['accuracy'])\n",
    "\n"
   ]
  },
  {
   "cell_type": "code",
   "execution_count": 49,
   "id": "016ba9b6",
   "metadata": {},
   "outputs": [
    {
     "name": "stdout",
     "output_type": "stream",
     "text": [
      "Epoch 1/20\n",
      "5074/5074 [==============================] - 12s 2ms/step - loss: 0.5969 - accuracy: 0.7006\n",
      "Epoch 2/20\n",
      "5074/5074 [==============================] - 12s 2ms/step - loss: 0.5967 - accuracy: 0.7006\n",
      "Epoch 3/20\n",
      "5074/5074 [==============================] - 11s 2ms/step - loss: 0.5965 - accuracy: 0.7009\n",
      "Epoch 4/20\n",
      "5074/5074 [==============================] - 12s 2ms/step - loss: 0.5959 - accuracy: 0.7015\n",
      "Epoch 5/20\n",
      "5074/5074 [==============================] - 10s 2ms/step - loss: 0.5955 - accuracy: 0.7017\n",
      "Epoch 6/20\n",
      "5074/5074 [==============================] - 10s 2ms/step - loss: 0.5950 - accuracy: 0.7018\n",
      "Epoch 7/20\n",
      "5074/5074 [==============================] - 10s 2ms/step - loss: 0.5949 - accuracy: 0.7026\n",
      "Epoch 8/20\n",
      "5074/5074 [==============================] - 10s 2ms/step - loss: 0.5945 - accuracy: 0.7024\n",
      "Epoch 9/20\n",
      "5074/5074 [==============================] - 9s 2ms/step - loss: 0.5942 - accuracy: 0.7022\n",
      "Epoch 10/20\n",
      "5074/5074 [==============================] - 9s 2ms/step - loss: 0.5937 - accuracy: 0.7027\n",
      "Epoch 11/20\n",
      "5074/5074 [==============================] - 11s 2ms/step - loss: 0.5933 - accuracy: 0.7030\n",
      "Epoch 12/20\n",
      "5074/5074 [==============================] - 12s 2ms/step - loss: 0.5932 - accuracy: 0.7033\n",
      "Epoch 13/20\n",
      "5074/5074 [==============================] - 11s 2ms/step - loss: 0.5927 - accuracy: 0.7032\n",
      "Epoch 14/20\n",
      "5074/5074 [==============================] - 11s 2ms/step - loss: 0.5926 - accuracy: 0.7033\n",
      "Epoch 15/20\n",
      "5074/5074 [==============================] - 11s 2ms/step - loss: 0.5924 - accuracy: 0.7037\n",
      "Epoch 16/20\n",
      "5074/5074 [==============================] - 13s 3ms/step - loss: 0.5920 - accuracy: 0.7039\n",
      "Epoch 17/20\n",
      "5074/5074 [==============================] - 12s 2ms/step - loss: 0.5921 - accuracy: 0.7038\n",
      "Epoch 18/20\n",
      "5074/5074 [==============================] - 11s 2ms/step - loss: 0.5915 - accuracy: 0.7041\n",
      "Epoch 19/20\n",
      "5074/5074 [==============================] - 13s 3ms/step - loss: 0.5913 - accuracy: 0.7045\n",
      "Epoch 20/20\n",
      "5074/5074 [==============================] - 11s 2ms/step - loss: 0.5911 - accuracy: 0.7043\n"
     ]
    },
    {
     "data": {
      "text/plain": [
       "<keras.callbacks.History at 0x7fe7450ac040>"
      ]
     },
     "execution_count": 49,
     "metadata": {},
     "output_type": "execute_result"
    }
   ],
   "source": [
    "# Train\n",
    "\n",
    "model.fit(X_train, y_train, epochs=20, batch_size=50)"
   ]
  },
  {
   "cell_type": "code",
   "execution_count": 50,
   "id": "bf26bd67",
   "metadata": {},
   "outputs": [
    {
     "name": "stdout",
     "output_type": "stream",
     "text": [
      "Accuracy on training data: 0.7045994997024536% \n",
      " Error on training data: 0.2954005002975464\n",
      "Accuracy on test data: 0.703893780708313% \n",
      " Error on test data: 0.296106219291687\n"
     ]
    }
   ],
   "source": [
    "# Evaluate\n",
    "\n",
    "pred_train= model.predict(X_train)\n",
    "scores = model.evaluate(X_train, y_train, verbose=0)\n",
    "print('Accuracy on training data: {}% \\n Error on training data: {}'.format(scores[1], 1 - scores[1]))   \n",
    " \n",
    "pred_test= model.predict(X_test)\n",
    "scores2 = model.evaluate(X_test, y_test, verbose=0)\n",
    "print('Accuracy on test data: {}% \\n Error on test data: {}'.format(scores2[1], 1 - scores2[1])) \n",
    "\n",
    "\n"
   ]
  },
  {
   "cell_type": "code",
   "execution_count": 191,
   "id": "f7388d19",
   "metadata": {},
   "outputs": [],
   "source": [
    "# print(X_test)\n",
    "\n",
    "test = model.predict(X_test)\n"
   ]
  },
  {
   "cell_type": "code",
   "execution_count": 197,
   "id": "601ae42d",
   "metadata": {},
   "outputs": [
    {
     "name": "stdout",
     "output_type": "stream",
     "text": [
      "Percent of predicted not booked entries:  0.07036086504585552\n",
      "108711\n",
      "Percent of not booked entries in training:  0.31403577243464653\n"
     ]
    }
   ],
   "source": [
    "notbooked = []\n",
    "\n",
    "for answer in test:\n",
    "    if answer[0] > answer[1]:\n",
    "        notbooked.append(answer)\n",
    "    \n",
    "print(\"Percent of predicted not booked entries: \",len(notbooked)/len(test))\n",
    "\n",
    "numNotBookedTest = 0\n",
    "\n",
    "print(len(y_test))\n",
    "\n",
    "for item in y_train:\n",
    "    if item[0] > item[1]:\n",
    "        numNotBookedTest += 1\n",
    "\n",
    "print(\"Percent of not booked entries in training: \",numNotBookedTest/len(y_train))\n",
    "\n",
    "\n",
    "\n",
    "\n",
    "\n"
   ]
  },
  {
   "cell_type": "code",
   "execution_count": 174,
   "id": "323fa674",
   "metadata": {},
   "outputs": [
    {
     "data": {
      "image/png": "[encoded data removed]",
      "text/plain": [
       "<Figure size 432x288 with 1 Axes>"
      ]
     },
     "metadata": {
      "needs_background": "light"
     },
     "output_type": "display_data"
    }
   ],
   "source": [
    "# Analysis of how price is being modeled\n",
    "\n",
    "# Sample property\n",
    "# host_is_superhost\taccommodates\tbathrooms\tbedrooms\tbeds\treview_scores_rating\tprice\t\n",
    "\n",
    "# Build test set\n",
    "\n",
    "properties = np.array([[0, 2, 1, 1, 1, 4.9, 40]])\n",
    "\n",
    "for price in range(50, 1200, 10):\n",
    "    properties = np.vstack([properties, [0, 2, 1, 1, 1, 4.9, price]])\n",
    "\n",
    "# print(properties) \n",
    "# sampleProperty = np.array([[0, 2, 1, 1, 1, 4.9, 150]])\n",
    "samplePropertyDf = pd.DataFrame({'host_is_superhost': properties[:, 0], 'accommodates': properties[:, 1], 'bathrooms': properties[:, 2], 'bedrooms': properties[:, 3], 'beds': properties[:, 4], 'review_scores_rating': properties[:, 5], 'price': properties[:, 6]})\n",
    "\n",
    "# Normalize\n",
    "samplePropertyDf[predictors] = samplePropertyDf[predictors]/maxes\n",
    "\n",
    "# print(samplePropertyDf[predictors])\n",
    "\n",
    "test = model.predict(samplePropertyDf[predictors])\n",
    "\n",
    "# print(test)\n",
    "\n",
    "plt.scatter(properties[:,6],test[:,1])\n",
    "plt.show()"
   ]
  },
  {
   "cell_type": "code",
   "execution_count": 179,
   "id": "aa4e22af",
   "metadata": {},
   "outputs": [
    {
     "data": {
      "image/png": "[encoded data removed]",
      "text/plain": [
       "<Figure size 432x288 with 1 Axes>"
      ]
     },
     "metadata": {
      "needs_background": "light"
     },
     "output_type": "display_data"
    }
   ],
   "source": [
    "# Revenue\n",
    "\n",
    "plt.scatter(properties[:,6],(test[:,1]*30)*properties[:,6])\n",
    "plt.show()"
   ]
  },
  {
   "cell_type": "code",
   "execution_count": 177,
   "id": "af58e1c3",
   "metadata": {},
   "outputs": [
    {
     "data": {
      "image/png": "[encoded data removed]",
      "text/plain": [
       "<Figure size 432x288 with 1 Axes>"
      ]
     },
     "metadata": {
      "needs_background": "light"
     },
     "output_type": "display_data"
    }
   ],
   "source": [
    "# Analysis of how price is being modeled\n",
    "\n",
    "# Sample property\n",
    "# host_is_superhost\taccommodates\tbathrooms\tbedrooms\tbeds\treview_scores_rating\tprice\t\n",
    "\n",
    "# Build test set\n",
    "\n",
    "properties = np.array([[0, 6, 2, 4, 4, 4.5, 40]])\n",
    "\n",
    "for price in range(50, 1200, 10):\n",
    "    properties = np.vstack([properties, [0, 6, 2, 4, 4, 4.5, price]])\n",
    "\n",
    "# print(properties) \n",
    "# sampleProperty = np.array([[0, 2, 1, 1, 1, 4.9, 150]])\n",
    "samplePropertyDf = pd.DataFrame({'host_is_superhost': properties[:, 0], 'accommodates': properties[:, 1], 'bathrooms': properties[:, 2], 'bedrooms': properties[:, 3], 'beds': properties[:, 4], 'review_scores_rating': properties[:, 5], 'price': properties[:, 6]})\n",
    "\n",
    "# Normalize\n",
    "samplePropertyDf[predictors] = samplePropertyDf[predictors]/maxes\n",
    "\n",
    "# print(samplePropertyDf[predictors])\n",
    "\n",
    "test = model.predict(samplePropertyDf[predictors])\n",
    "\n",
    "# print(test)\n",
    "\n",
    "plt.scatter(properties[:,6],test[:,1])\n",
    "plt.show()"
   ]
  }
 ],
 "metadata": {
  "kernelspec": {
   "display_name": "Python 3 (ipykernel)",
   "language": "python",
   "name": "python3"
  },
  "language_info": {
   "codemirror_mode": {
    "name": "ipython",
    "version": 3
   },
   "file_extension": ".py",
   "mimetype": "text/x-python",
   "name": "python",
   "nbconvert_exporter": "python",
   "pygments_lexer": "ipython3",
   "version": "3.9.7"
  }
 },
 "nbformat": 4,
 "nbformat_minor": 5
}
