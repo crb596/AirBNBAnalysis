{
 "cells": [
  {
   "cell_type": "code",
   "execution_count": 17,
   "id": "43ce17e2",
   "metadata": {},
   "outputs": [],
   "source": [
    "# Import required libraries\n",
    "import pandas as pd\n",
    "import numpy as np \n",
    "import matplotlib.pyplot as plt\n",
    "import sklearn\n",
    "\n",
    "# Import necessary modules\n",
    "from sklearn.model_selection import train_test_split\n",
    "from sklearn.metrics import mean_squared_error\n",
    "from math import sqrt\n",
    "\n",
    "# Keras specific\n",
    "import keras\n",
    "from keras.models import Sequential\n",
    "from keras.layers import Dense\n",
    "from tensorflow.keras.utils import to_categorical\n"
   ]
  },
  {
   "cell_type": "code",
   "execution_count": 216,
   "id": "0b681ba6",
   "metadata": {},
   "outputs": [
    {
     "name": "stdout",
     "output_type": "stream",
     "text": [
      "Read csv without chunks:  0.3351297378540039 sec\n"
     ]
    }
   ],
   "source": [
    "# Read in data\n",
    "\n",
    "dataPath = 'data.csv'\n",
    "\n",
    "start = time.time()\n",
    "df = pd.read_csv(dataPath)\n",
    "end = time.time()\n",
    "print(\"Read csv without chunks: \",(end-start),\"sec\")\n",
    "\n",
    "# Convert boolean column of booked to int\n",
    "df[\"booked\"] = df[\"booked\"].astype(int)\n",
    "\n",
    "# Filter out nan\n",
    "df = df.dropna()"
   ]
  },
  {
   "cell_type": "code",
   "execution_count": 217,
   "id": "d9ca13a5",
   "metadata": {},
   "outputs": [
    {
     "data": {
      "text/html": [
       "<div>\n",
       "<style scoped>\n",
       "    .dataframe tbody tr th:only-of-type {\n",
       "        vertical-align: middle;\n",
       "    }\n",
       "\n",
       "    .dataframe tbody tr th {\n",
       "        vertical-align: top;\n",
       "    }\n",
       "\n",
       "    .dataframe thead th {\n",
       "        text-align: right;\n",
       "    }\n",
       "</style>\n",
       "<table border=\"1\" class=\"dataframe\">\n",
       "  <thead>\n",
       "    <tr style=\"text-align: right;\">\n",
       "      <th></th>\n",
       "      <th>Unnamed: 0</th>\n",
       "      <th>host_is_superhost</th>\n",
       "      <th>accommodates</th>\n",
       "      <th>bathrooms</th>\n",
       "      <th>bedrooms</th>\n",
       "      <th>beds</th>\n",
       "      <th>review_scores_rating</th>\n",
       "      <th>price</th>\n",
       "      <th>booked</th>\n",
       "    </tr>\n",
       "  </thead>\n",
       "  <tbody>\n",
       "    <tr>\n",
       "      <th>count</th>\n",
       "      <td>362370.000000</td>\n",
       "      <td>362370.000000</td>\n",
       "      <td>362370.000000</td>\n",
       "      <td>362370.000000</td>\n",
       "      <td>362370.000000</td>\n",
       "      <td>362370.000000</td>\n",
       "      <td>362370.000000</td>\n",
       "      <td>362370.000000</td>\n",
       "      <td>362370.000000</td>\n",
       "    </tr>\n",
       "    <tr>\n",
       "      <th>mean</th>\n",
       "      <td>199642.820225</td>\n",
       "      <td>0.388774</td>\n",
       "      <td>3.354831</td>\n",
       "      <td>1.172696</td>\n",
       "      <td>1.445236</td>\n",
       "      <td>1.867621</td>\n",
       "      <td>4.730517</td>\n",
       "      <td>204.070204</td>\n",
       "      <td>0.685832</td>\n",
       "    </tr>\n",
       "    <tr>\n",
       "      <th>std</th>\n",
       "      <td>115380.538023</td>\n",
       "      <td>0.487472</td>\n",
       "      <td>2.259316</td>\n",
       "      <td>0.460526</td>\n",
       "      <td>0.806338</td>\n",
       "      <td>1.313301</td>\n",
       "      <td>0.376637</td>\n",
       "      <td>226.961953</td>\n",
       "      <td>0.464184</td>\n",
       "    </tr>\n",
       "    <tr>\n",
       "      <th>min</th>\n",
       "      <td>0.000000</td>\n",
       "      <td>0.000000</td>\n",
       "      <td>1.000000</td>\n",
       "      <td>0.000000</td>\n",
       "      <td>1.000000</td>\n",
       "      <td>1.000000</td>\n",
       "      <td>1.000000</td>\n",
       "      <td>10.000000</td>\n",
       "      <td>0.000000</td>\n",
       "    </tr>\n",
       "    <tr>\n",
       "      <th>25%</th>\n",
       "      <td>98392.250000</td>\n",
       "      <td>0.000000</td>\n",
       "      <td>2.000000</td>\n",
       "      <td>1.000000</td>\n",
       "      <td>1.000000</td>\n",
       "      <td>1.000000</td>\n",
       "      <td>4.650000</td>\n",
       "      <td>90.000000</td>\n",
       "      <td>0.000000</td>\n",
       "    </tr>\n",
       "    <tr>\n",
       "      <th>50%</th>\n",
       "      <td>202274.500000</td>\n",
       "      <td>0.000000</td>\n",
       "      <td>2.000000</td>\n",
       "      <td>1.000000</td>\n",
       "      <td>1.000000</td>\n",
       "      <td>1.000000</td>\n",
       "      <td>4.830000</td>\n",
       "      <td>149.000000</td>\n",
       "      <td>1.000000</td>\n",
       "    </tr>\n",
       "    <tr>\n",
       "      <th>75%</th>\n",
       "      <td>300156.750000</td>\n",
       "      <td>1.000000</td>\n",
       "      <td>4.000000</td>\n",
       "      <td>1.000000</td>\n",
       "      <td>2.000000</td>\n",
       "      <td>2.000000</td>\n",
       "      <td>4.960000</td>\n",
       "      <td>245.000000</td>\n",
       "      <td>1.000000</td>\n",
       "    </tr>\n",
       "    <tr>\n",
       "      <th>max</th>\n",
       "      <td>396179.000000</td>\n",
       "      <td>1.000000</td>\n",
       "      <td>16.000000</td>\n",
       "      <td>7.000000</td>\n",
       "      <td>9.000000</td>\n",
       "      <td>18.000000</td>\n",
       "      <td>5.000000</td>\n",
       "      <td>9994.000000</td>\n",
       "      <td>1.000000</td>\n",
       "    </tr>\n",
       "  </tbody>\n",
       "</table>\n",
       "</div>"
      ],
      "text/plain": [
       "          Unnamed: 0  host_is_superhost   accommodates      bathrooms  \\\n",
       "count  362370.000000      362370.000000  362370.000000  362370.000000   \n",
       "mean   199642.820225           0.388774       3.354831       1.172696   \n",
       "std    115380.538023           0.487472       2.259316       0.460526   \n",
       "min         0.000000           0.000000       1.000000       0.000000   \n",
       "25%     98392.250000           0.000000       2.000000       1.000000   \n",
       "50%    202274.500000           0.000000       2.000000       1.000000   \n",
       "75%    300156.750000           1.000000       4.000000       1.000000   \n",
       "max    396179.000000           1.000000      16.000000       7.000000   \n",
       "\n",
       "            bedrooms           beds  review_scores_rating          price  \\\n",
       "count  362370.000000  362370.000000         362370.000000  362370.000000   \n",
       "mean        1.445236       1.867621              4.730517     204.070204   \n",
       "std         0.806338       1.313301              0.376637     226.961953   \n",
       "min         1.000000       1.000000              1.000000      10.000000   \n",
       "25%         1.000000       1.000000              4.650000      90.000000   \n",
       "50%         1.000000       1.000000              4.830000     149.000000   \n",
       "75%         2.000000       2.000000              4.960000     245.000000   \n",
       "max         9.000000      18.000000              5.000000    9994.000000   \n",
       "\n",
       "              booked  \n",
       "count  362370.000000  \n",
       "mean        0.685832  \n",
       "std         0.464184  \n",
       "min         0.000000  \n",
       "25%         0.000000  \n",
       "50%         1.000000  \n",
       "75%         1.000000  \n",
       "max         1.000000  "
      ]
     },
     "execution_count": 217,
     "metadata": {},
     "output_type": "execute_result"
    }
   ],
   "source": [
    "# Data overview\n",
    "df.describe()\n"
   ]
  },
  {
   "cell_type": "code",
   "execution_count": 218,
   "id": "c2463bcb",
   "metadata": {},
   "outputs": [
    {
     "data": {
      "text/html": [
       "<div>\n",
       "<style scoped>\n",
       "    .dataframe tbody tr th:only-of-type {\n",
       "        vertical-align: middle;\n",
       "    }\n",
       "\n",
       "    .dataframe tbody tr th {\n",
       "        vertical-align: top;\n",
       "    }\n",
       "\n",
       "    .dataframe thead th {\n",
       "        text-align: right;\n",
       "    }\n",
       "</style>\n",
       "<table border=\"1\" class=\"dataframe\">\n",
       "  <thead>\n",
       "    <tr style=\"text-align: right;\">\n",
       "      <th></th>\n",
       "      <th>Unnamed: 0</th>\n",
       "      <th>host_is_superhost</th>\n",
       "      <th>accommodates</th>\n",
       "      <th>bathrooms</th>\n",
       "      <th>bedrooms</th>\n",
       "      <th>beds</th>\n",
       "      <th>review_scores_rating</th>\n",
       "      <th>price</th>\n",
       "      <th>booked</th>\n",
       "    </tr>\n",
       "  </thead>\n",
       "  <tbody>\n",
       "    <tr>\n",
       "      <th>count</th>\n",
       "      <td>362370.000000</td>\n",
       "      <td>362370.000000</td>\n",
       "      <td>362370.000000</td>\n",
       "      <td>362370.000000</td>\n",
       "      <td>362370.000000</td>\n",
       "      <td>362370.000000</td>\n",
       "      <td>362370.000000</td>\n",
       "      <td>362370.000000</td>\n",
       "      <td>362370.000000</td>\n",
       "    </tr>\n",
       "    <tr>\n",
       "      <th>mean</th>\n",
       "      <td>199642.820225</td>\n",
       "      <td>0.388774</td>\n",
       "      <td>0.209677</td>\n",
       "      <td>0.167528</td>\n",
       "      <td>0.160582</td>\n",
       "      <td>0.103757</td>\n",
       "      <td>0.946103</td>\n",
       "      <td>0.020419</td>\n",
       "      <td>0.685832</td>\n",
       "    </tr>\n",
       "    <tr>\n",
       "      <th>std</th>\n",
       "      <td>115380.538023</td>\n",
       "      <td>0.487472</td>\n",
       "      <td>0.141207</td>\n",
       "      <td>0.065789</td>\n",
       "      <td>0.089593</td>\n",
       "      <td>0.072961</td>\n",
       "      <td>0.075327</td>\n",
       "      <td>0.022710</td>\n",
       "      <td>0.464184</td>\n",
       "    </tr>\n",
       "    <tr>\n",
       "      <th>min</th>\n",
       "      <td>0.000000</td>\n",
       "      <td>0.000000</td>\n",
       "      <td>0.062500</td>\n",
       "      <td>0.000000</td>\n",
       "      <td>0.111111</td>\n",
       "      <td>0.055556</td>\n",
       "      <td>0.200000</td>\n",
       "      <td>0.001001</td>\n",
       "      <td>0.000000</td>\n",
       "    </tr>\n",
       "    <tr>\n",
       "      <th>25%</th>\n",
       "      <td>98392.250000</td>\n",
       "      <td>0.000000</td>\n",
       "      <td>0.125000</td>\n",
       "      <td>0.142857</td>\n",
       "      <td>0.111111</td>\n",
       "      <td>0.055556</td>\n",
       "      <td>0.930000</td>\n",
       "      <td>0.009005</td>\n",
       "      <td>0.000000</td>\n",
       "    </tr>\n",
       "    <tr>\n",
       "      <th>50%</th>\n",
       "      <td>202274.500000</td>\n",
       "      <td>0.000000</td>\n",
       "      <td>0.125000</td>\n",
       "      <td>0.142857</td>\n",
       "      <td>0.111111</td>\n",
       "      <td>0.055556</td>\n",
       "      <td>0.966000</td>\n",
       "      <td>0.014909</td>\n",
       "      <td>1.000000</td>\n",
       "    </tr>\n",
       "    <tr>\n",
       "      <th>75%</th>\n",
       "      <td>300156.750000</td>\n",
       "      <td>1.000000</td>\n",
       "      <td>0.250000</td>\n",
       "      <td>0.142857</td>\n",
       "      <td>0.222222</td>\n",
       "      <td>0.111111</td>\n",
       "      <td>0.992000</td>\n",
       "      <td>0.024515</td>\n",
       "      <td>1.000000</td>\n",
       "    </tr>\n",
       "    <tr>\n",
       "      <th>max</th>\n",
       "      <td>396179.000000</td>\n",
       "      <td>1.000000</td>\n",
       "      <td>1.000000</td>\n",
       "      <td>1.000000</td>\n",
       "      <td>1.000000</td>\n",
       "      <td>1.000000</td>\n",
       "      <td>1.000000</td>\n",
       "      <td>1.000000</td>\n",
       "      <td>1.000000</td>\n",
       "    </tr>\n",
       "  </tbody>\n",
       "</table>\n",
       "</div>"
      ],
      "text/plain": [
       "          Unnamed: 0  host_is_superhost   accommodates      bathrooms  \\\n",
       "count  362370.000000      362370.000000  362370.000000  362370.000000   \n",
       "mean   199642.820225           0.388774       0.209677       0.167528   \n",
       "std    115380.538023           0.487472       0.141207       0.065789   \n",
       "min         0.000000           0.000000       0.062500       0.000000   \n",
       "25%     98392.250000           0.000000       0.125000       0.142857   \n",
       "50%    202274.500000           0.000000       0.125000       0.142857   \n",
       "75%    300156.750000           1.000000       0.250000       0.142857   \n",
       "max    396179.000000           1.000000       1.000000       1.000000   \n",
       "\n",
       "            bedrooms           beds  review_scores_rating          price  \\\n",
       "count  362370.000000  362370.000000         362370.000000  362370.000000   \n",
       "mean        0.160582       0.103757              0.946103       0.020419   \n",
       "std         0.089593       0.072961              0.075327       0.022710   \n",
       "min         0.111111       0.055556              0.200000       0.001001   \n",
       "25%         0.111111       0.055556              0.930000       0.009005   \n",
       "50%         0.111111       0.055556              0.966000       0.014909   \n",
       "75%         0.222222       0.111111              0.992000       0.024515   \n",
       "max         1.000000       1.000000              1.000000       1.000000   \n",
       "\n",
       "              booked  \n",
       "count  362370.000000  \n",
       "mean        0.685832  \n",
       "std         0.464184  \n",
       "min         0.000000  \n",
       "25%         0.000000  \n",
       "50%         1.000000  \n",
       "75%         1.000000  \n",
       "max         1.000000  "
      ]
     },
     "execution_count": 218,
     "metadata": {},
     "output_type": "execute_result"
    }
   ],
   "source": [
    "# Noarmalize data and select out target column\n",
    "\n",
    "target_column = ['booked'] \n",
    "index_column = ['Unnamed: 0']\n",
    "predictors = list(set(list(df.columns))-set(target_column)-set(index_column))\n",
    "maxes = df[predictors].max()\n",
    "df[predictors] = df[predictors]/maxes\n",
    "df.describe()\n"
   ]
  },
  {
   "cell_type": "code",
   "execution_count": 219,
   "id": "43edf9ad",
   "metadata": {},
   "outputs": [
    {
     "name": "stdout",
     "output_type": "stream",
     "text": [
      "(253659, 7)\n",
      "(108711, 7)\n"
     ]
    }
   ],
   "source": [
    "# Create test vs train sets\n",
    "X = df[predictors].values\n",
    "y = df[target_column].values\n",
    "\n",
    "X_train, X_test, y_train, y_test = train_test_split(X, y, test_size=0.30, random_state=40)\n",
    "print(X_train.shape); print(X_test.shape)\n",
    "\n",
    "# One hot encode outputs since booked is catagorical\n",
    "y_train = to_categorical(y_train)\n",
    "y_test = to_categorical(y_test)\n",
    "\n",
    "count_classes = y_test.shape[1]"
   ]
  },
  {
   "cell_type": "code",
   "execution_count": 220,
   "id": "5a5b62a5",
   "metadata": {},
   "outputs": [],
   "source": [
    "# Build model\n",
    "\n",
    "model = Sequential()\n",
    "model.add(Dense(500, activation='relu', input_dim=7))\n",
    "model.add(Dense(100, activation='relu'))\n",
    "model.add(Dense(50, activation='relu'))\n",
    "model.add(Dense(2, activation='softmax'))\n",
    "\n",
    "# Compile the model\n",
    "model.compile(optimizer='adam', \n",
    "              loss='categorical_crossentropy', \n",
    "              metrics=['accuracy'])\n",
    "\n"
   ]
  },
  {
   "cell_type": "code",
   "execution_count": 221,
   "id": "d5f18be3",
   "metadata": {},
   "outputs": [
    {
     "name": "stdout",
     "output_type": "stream",
     "text": [
      "Epoch 1/20\n",
      "5074/5074 [==============================] - 13s 2ms/step - loss: 0.6128 - accuracy: 0.6894\n",
      "Epoch 2/20\n",
      "5074/5074 [==============================] - 13s 3ms/step - loss: 0.6082 - accuracy: 0.6927\n",
      "Epoch 3/20\n",
      "5074/5074 [==============================] - 12s 2ms/step - loss: 0.6059 - accuracy: 0.6942\n",
      "Epoch 4/20\n",
      "5074/5074 [==============================] - 12s 2ms/step - loss: 0.6047 - accuracy: 0.6953\n",
      "Epoch 5/20\n",
      "5074/5074 [==============================] - 14s 3ms/step - loss: 0.6041 - accuracy: 0.6955\n",
      "Epoch 6/20\n",
      "5074/5074 [==============================] - 14s 3ms/step - loss: 0.6033 - accuracy: 0.6965\n",
      "Epoch 7/20\n",
      "5074/5074 [==============================] - 13s 3ms/step - loss: 0.6031 - accuracy: 0.6965\n",
      "Epoch 8/20\n",
      "5074/5074 [==============================] - 13s 2ms/step - loss: 0.6026 - accuracy: 0.6969\n",
      "Epoch 9/20\n",
      "5074/5074 [==============================] - 12s 2ms/step - loss: 0.6021 - accuracy: 0.6975\n",
      "Epoch 10/20\n",
      "5074/5074 [==============================] - 12s 2ms/step - loss: 0.6015 - accuracy: 0.6976\n",
      "Epoch 11/20\n",
      "5074/5074 [==============================] - 13s 2ms/step - loss: 0.6010 - accuracy: 0.6978\n",
      "Epoch 12/20\n",
      "5074/5074 [==============================] - 12s 2ms/step - loss: 0.6005 - accuracy: 0.6983\n",
      "Epoch 13/20\n",
      "5074/5074 [==============================] - 12s 2ms/step - loss: 0.6002 - accuracy: 0.6986\n",
      "Epoch 14/20\n",
      "5074/5074 [==============================] - 12s 2ms/step - loss: 0.5996 - accuracy: 0.6989\n",
      "Epoch 15/20\n",
      "5074/5074 [==============================] - 12s 2ms/step - loss: 0.5992 - accuracy: 0.6988\n",
      "Epoch 16/20\n",
      "5074/5074 [==============================] - 12s 2ms/step - loss: 0.5987 - accuracy: 0.6996\n",
      "Epoch 17/20\n",
      "5074/5074 [==============================] - 13s 3ms/step - loss: 0.5983 - accuracy: 0.6997\n",
      "Epoch 18/20\n",
      "5074/5074 [==============================] - 12s 2ms/step - loss: 0.5978 - accuracy: 0.7001\n",
      "Epoch 19/20\n",
      "5074/5074 [==============================] - 12s 2ms/step - loss: 0.5974 - accuracy: 0.7005\n",
      "Epoch 20/20\n",
      "5074/5074 [==============================] - 13s 2ms/step - loss: 0.5972 - accuracy: 0.7007\n"
     ]
    },
    {
     "data": {
      "text/plain": [
       "<keras.callbacks.History at 0x7fe733ae2fa0>"
      ]
     },
     "execution_count": 221,
     "metadata": {},
     "output_type": "execute_result"
    }
   ],
   "source": [
    "# Train\n",
    "\n",
    "model.fit(X_train, y_train, epochs=20, batch_size=50)"
   ]
  },
  {
   "cell_type": "code",
   "execution_count": 222,
   "id": "8d8d0697",
   "metadata": {},
   "outputs": [
    {
     "name": "stdout",
     "output_type": "stream",
     "text": [
      "Accuracy on training data: 0.7022814154624939% \n",
      " Error on training data: 0.2977185845375061\n",
      "Accuracy on test data: 0.7018700838088989% \n",
      " Error on test data: 0.2981299161911011\n"
     ]
    }
   ],
   "source": [
    "# Evaluate\n",
    "\n",
    "pred_train= model.predict(X_train)\n",
    "scores = model.evaluate(X_train, y_train, verbose=0)\n",
    "print('Accuracy on training data: {}% \\n Error on training data: {}'.format(scores[1], 1 - scores[1]))   \n",
    " \n",
    "pred_test= model.predict(X_test)\n",
    "scores2 = model.evaluate(X_test, y_test, verbose=0)\n",
    "print('Accuracy on test data: {}% \\n Error on test data: {}'.format(scores2[1], 1 - scores2[1])) \n",
    "\n",
    "\n"
   ]
  },
  {
   "cell_type": "code",
   "execution_count": 223,
   "id": "0322d6aa",
   "metadata": {},
   "outputs": [],
   "source": [
    "# print(X_test)\n",
    "\n",
    "test = model.predict(X_test)\n"
   ]
  },
  {
   "cell_type": "code",
   "execution_count": 232,
   "id": "c90abadb",
   "metadata": {},
   "outputs": [
    {
     "name": "stdout",
     "output_type": "stream",
     "text": [
      "Percent of predicted not booked entries:  0.05549576399812346\n",
      "108711\n",
      "Percent of not booked entries in testing:  0.3144759959893663\n"
     ]
    }
   ],
   "source": [
    "notbooked = []\n",
    "\n",
    "for answer in test:\n",
    "    if answer[0] > answer[1]:\n",
    "        notbooked.append(answer)\n",
    "    \n",
    "print(\"Percent of predicted not booked entries: \",len(notbooked)/len(test))\n",
    "\n",
    "numNotBookedTest = 0\n",
    "\n",
    "print(len(y_test))\n",
    "\n",
    "for item in y_test:\n",
    "    if item[0] > item[1]:\n",
    "        numNotBookedTest += 1\n",
    "\n",
    "print(\"Percent of not booked entries in testing: \",numNotBookedTest/len(y_test))\n",
    "\n",
    "\n",
    "\n"
   ]
  },
  {
   "cell_type": "code",
   "execution_count": 233,
   "id": "4ddd1273",
   "metadata": {},
   "outputs": [
    {
     "data": {
      "image/png": "[encoded data removed]",
      "text/plain": [
       "<Figure size 432x288 with 1 Axes>"
      ]
     },
     "metadata": {
      "needs_background": "light"
     },
     "output_type": "display_data"
    }
   ],
   "source": [
    "# Analysis of how price is being modeled\n",
    "\n",
    "# Sample property\n",
    "# host_is_superhost\taccommodates\tbathrooms\tbedrooms\tbeds\treview_scores_rating\tprice\t\n",
    "\n",
    "# Build test set\n",
    "\n",
    "properties = np.array([[0, 2, 1, 1, 1, 4.9, 40]])\n",
    "\n",
    "for price in range(50, 1200, 10):\n",
    "    properties = np.vstack([properties, [0, 2, 1, 1, 1, 4.9, price]])\n",
    "\n",
    "# print(properties) \n",
    "# sampleProperty = np.array([[0, 2, 1, 1, 1, 4.9, 150]])\n",
    "samplePropertyDf = pd.DataFrame({'host_is_superhost': properties[:, 0], 'accommodates': properties[:, 1], 'bathrooms': properties[:, 2], 'bedrooms': properties[:, 3], 'beds': properties[:, 4], 'review_scores_rating': properties[:, 5], 'price': properties[:, 6]})\n",
    "\n",
    "# Normalize\n",
    "samplePropertyDf[predictors] = samplePropertyDf[predictors]/maxes\n",
    "\n",
    "# print(samplePropertyDf[predictors])\n",
    "\n",
    "test = model.predict(samplePropertyDf[predictors])\n",
    "\n",
    "# print(test)\n",
    "\n",
    "plt.scatter(properties[:,6],test[:,1])\n",
    "plt.show()"
   ]
  },
  {
   "cell_type": "code",
   "execution_count": 234,
   "id": "c8699b29",
   "metadata": {},
   "outputs": [
    {
     "data": {
      "image/png": "[encoded data removed]",
      "text/plain": [
       "<Figure size 432x288 with 1 Axes>"
      ]
     },
     "metadata": {
      "needs_background": "light"
     },
     "output_type": "display_data"
    }
   ],
   "source": [
    "# Revenue\n",
    "\n",
    "plt.scatter(properties[:,6],(test[:,1]*30)*properties[:,6])\n",
    "plt.show()"
   ]
  },
  {
   "cell_type": "code",
   "execution_count": 237,
   "id": "4c674d5e",
   "metadata": {},
   "outputs": [
    {
     "data": {
      "image/png": "[encoded data removed]",
      "text/plain": [
       "<Figure size 432x288 with 1 Axes>"
      ]
     },
     "metadata": {
      "needs_background": "light"
     },
     "output_type": "display_data"
    }
   ],
   "source": [
    "# Analysis of how price is being modeled\n",
    "\n",
    "# Sample property\n",
    "# host_is_superhost\taccommodates\tbathrooms\tbedrooms\tbeds\treview_scores_rating\tprice\t\n",
    "\n",
    "# Build test set\n",
    "\n",
    "properties = np.array([[0, 6, 2, 4, 4, 4.5, 40]])\n",
    "\n",
    "for price in range(50, 2000, 10):\n",
    "    properties = np.vstack([properties, [0, 6, 2, 4, 4, 4.5, price]])\n",
    "\n",
    "# print(properties) \n",
    "# sampleProperty = np.array([[0, 2, 1, 1, 1, 4.9, 150]])\n",
    "samplePropertyDf = pd.DataFrame({'host_is_superhost': properties[:, 0], 'accommodates': properties[:, 1], 'bathrooms': properties[:, 2], 'bedrooms': properties[:, 3], 'beds': properties[:, 4], 'review_scores_rating': properties[:, 5], 'price': properties[:, 6]})\n",
    "\n",
    "# Normalize\n",
    "samplePropertyDf[predictors] = samplePropertyDf[predictors]/maxes\n",
    "\n",
    "# print(samplePropertyDf[predictors])\n",
    "\n",
    "test = model.predict(samplePropertyDf[predictors])\n",
    "\n",
    "# print(test)\n",
    "\n",
    "plt.scatter(properties[:,6],test[:,1])\n",
    "plt.show()"
   ]
  },
  {
   "cell_type": "code",
   "execution_count": 238,
   "id": "92473d0c",
   "metadata": {},
   "outputs": [
    {
     "data": {
      "image/png": "[encoded data removed]",
      "text/plain": [
       "<Figure size 432x288 with 1 Axes>"
      ]
     },
     "metadata": {
      "needs_background": "light"
     },
     "output_type": "display_data"
    }
   ],
   "source": [
    "# Revenue\n",
    "\n",
    "plt.scatter(properties[:,6],(test[:,1]*30)*properties[:,6])\n",
    "plt.show()"
   ]
  },
  {
   "cell_type": "code",
   "execution_count": null,
   "id": "d0f801fc",
   "metadata": {},
   "outputs": [],
   "source": [
    "# Beg of distance math\n",
    "\n",
    "# # Function to get distance value of a cord from a reference cord, the reference cord will be max val and the further away the quicker it drops off\n",
    "# import math\n",
    "\n",
    "# def calcDistance(refLat, refLng, targetLat, targetLng):\n",
    "#     R = 6371e3 #metres\n",
    "#     φ1 = targetLat * math.pi/180 # φ, λ in radians\n",
    "#     φ2 = refLat * math.pi/180\n",
    "#     Δφ = (refLat-targetLat) * math.pi/180\n",
    "#     Δλ = (refLng-targetLng) * math.pi/180\n",
    "\n",
    "#     a = math.sin(Δφ/2) * math.sin(Δφ/2) + math.cos(φ1) * math.cos(φ2) * math.sin(Δλ/2) * math.sin(Δλ/2)\n",
    "#     c = 2 * math.atan2(math.sqrt(a), math.sqrt(1-a))\n",
    "\n",
    "#     d = R * c #in metres\n",
    "#     return d"
   ]
  },
  {
   "cell_type": "code",
   "execution_count": 363,
   "id": "8142650b",
   "metadata": {},
   "outputs": [
    {
     "name": "stdout",
     "output_type": "stream",
     "text": [
      "Chance the property is booked 0.7892363\n",
      "0.05594340283458932\n",
      "200\n"
     ]
    }
   ],
   "source": [
    "# Function that takes in a state, decides what the reward is, and returns it\n",
    "import random\n",
    "\n",
    "#State = [host_is_superhost(0-1),accommodates(0-n),bathrooms(0-n),bedrooms(0-n),beds(0-n),review_scores_rating(0-5),price(0-n)]\n",
    "def getReward(state):\n",
    "    propertyFromState = np.array([state])\n",
    "    \n",
    "    # Normalize\n",
    "    propertyFromDf = pd.DataFrame({'host_is_superhost': propertyFromState[:, 0], 'accommodates': propertyFromState[:, 1], 'bathrooms': propertyFromState[:, 2], 'bedrooms': propertyFromState[:, 3], 'beds': propertyFromState[:, 4], 'review_scores_rating': propertyFromState[:, 5], 'price': propertyFromState[:, 6]})\n",
    "    propertyFromDf[predictors] = propertyFromDf[predictors]/maxes\n",
    "\n",
    "    #Predict\n",
    "    bookingConfidence = model.predict(propertyFromDf[predictors])\n",
    "    \n",
    "#     print(\"Chance the property is booked\",bookingConfidence[0][1])\n",
    "    \n",
    "    #Get random chance, if below booking confidence say the property is booked and return the price it was booked for, otherwise 0\n",
    "    chance = random.uniform(0, 1)\n",
    "#     print(chance)\n",
    "    if chance < bookingConfidence[0][1]:\n",
    "        return state[len(state)-1]  \n",
    "    return 0\n",
    "\n",
    "print(getReward([1,2,1,1,1,5,200]))"
   ]
  }
 ],
 "metadata": {
  "kernelspec": {
   "display_name": "Python 3 (ipykernel)",
   "language": "python",
   "name": "python3"
  },
  "language_info": {
   "codemirror_mode": {
    "name": "ipython",
    "version": 3
   },
   "file_extension": ".py",
   "mimetype": "text/x-python",
   "name": "python",
   "nbconvert_exporter": "python",
   "pygments_lexer": "ipython3",
   "version": "3.9.7"
  }
 },
 "nbformat": 4,
 "nbformat_minor": 5
}
